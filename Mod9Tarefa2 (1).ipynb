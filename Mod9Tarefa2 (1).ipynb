{
 "cells": [
  {
   "cell_type": "markdown",
   "metadata": {
    "id": "eYvCczy6lTt7"
   },
   "source": [
    "# Livro para consulta:\n",
    "- https://jakevdp.github.io/PythonDataScienceHandbook/03.08-aggregation-and-grouping.html\n",
    "- https://jakevdp.github.io/PythonDataScienceHandbook/03.09-pivot-tables.html\n",
    "    "
   ]
  },
  {
   "cell_type": "markdown",
   "metadata": {
    "id": "oeWprAfnlTt-"
   },
   "source": [
    "# 1. Importando bibliotecas <a name=\"import\"></a>\n",
    "\n",
    "<div style=\"text-align: right\"\n",
    "     \n",
    "[Voltar ao índice](#Contents)"
   ]
  },
  {
   "cell_type": "code",
   "execution_count": 71,
   "metadata": {
    "ExecuteTime": {
     "end_time": "2021-06-06T21:12:37.298706Z",
     "start_time": "2021-06-06T21:12:36.656481Z"
    },
    "id": "y_9gYudilTt_"
   },
   "outputs": [],
   "source": [
    "import numpy as np\n",
    "import pandas as pd\n",
    "import seaborn as sns\n",
    "import matplotlib.pyplot as plt\n",
    "\n",
    "%matplotlib inline"
   ]
  },
  {
   "cell_type": "code",
   "execution_count": null,
   "metadata": {
    "id": "1yNG4iFTlTuA"
   },
   "outputs": [],
   "source": []
  },
  {
   "cell_type": "markdown",
   "metadata": {
    "id": "-cpxC-IBlTuA"
   },
   "source": [
    "# 2. Carregando o dataframe SINASC <a name=\"read\"></a>\n",
    "<div style=\"text-align: right\"\n",
    "     \n",
    "[Voltar ao índice](#Contents)"
   ]
  },
  {
   "cell_type": "code",
   "execution_count": 72,
   "metadata": {
    "ExecuteTime": {
     "end_time": "2021-06-06T21:12:37.762376Z",
     "start_time": "2021-06-06T21:12:37.728383Z"
    },
    "id": "nQZn7u4DlTuB",
    "outputId": "74b44036-69d9-4139-b291-621d77ed331b",
    "scrolled": true
   },
   "outputs": [
    {
     "data": {
      "text/html": [
       "<div>\n",
       "<style scoped>\n",
       "    .dataframe tbody tr th:only-of-type {\n",
       "        vertical-align: middle;\n",
       "    }\n",
       "\n",
       "    .dataframe tbody tr th {\n",
       "        vertical-align: top;\n",
       "    }\n",
       "\n",
       "    .dataframe thead th {\n",
       "        text-align: right;\n",
       "    }\n",
       "</style>\n",
       "<table border=\"1\" class=\"dataframe\">\n",
       "  <thead>\n",
       "    <tr style=\"text-align: right;\">\n",
       "      <th></th>\n",
       "      <th>ORIGEM</th>\n",
       "      <th>CODESTAB</th>\n",
       "      <th>CODMUNNASC</th>\n",
       "      <th>LOCNASC</th>\n",
       "      <th>IDADEMAE</th>\n",
       "      <th>ESTCIVMAE</th>\n",
       "      <th>ESCMAE</th>\n",
       "      <th>CODOCUPMAE</th>\n",
       "      <th>QTDFILVIVO</th>\n",
       "      <th>QTDFILMORT</th>\n",
       "      <th>...</th>\n",
       "      <th>KOTELCHUCK</th>\n",
       "      <th>CONTADOR</th>\n",
       "      <th>munResStatus</th>\n",
       "      <th>munResTipo</th>\n",
       "      <th>munResNome</th>\n",
       "      <th>munResUf</th>\n",
       "      <th>munResLat</th>\n",
       "      <th>munResLon</th>\n",
       "      <th>munResAlt</th>\n",
       "      <th>munResArea</th>\n",
       "    </tr>\n",
       "  </thead>\n",
       "  <tbody>\n",
       "    <tr>\n",
       "      <th>0</th>\n",
       "      <td>1</td>\n",
       "      <td>2679477.0</td>\n",
       "      <td>110001</td>\n",
       "      <td>1</td>\n",
       "      <td>19</td>\n",
       "      <td>5.0</td>\n",
       "      <td>8 a 11 anos</td>\n",
       "      <td>NaN</td>\n",
       "      <td>0.0</td>\n",
       "      <td>0.0</td>\n",
       "      <td>...</td>\n",
       "      <td>5</td>\n",
       "      <td>1</td>\n",
       "      <td>ATIVO</td>\n",
       "      <td>MUNIC</td>\n",
       "      <td>Alta Floresta D'Oeste</td>\n",
       "      <td>Rondônia</td>\n",
       "      <td>-11.93554</td>\n",
       "      <td>-61.99982</td>\n",
       "      <td>338.0</td>\n",
       "      <td>7067.025</td>\n",
       "    </tr>\n",
       "    <tr>\n",
       "      <th>1</th>\n",
       "      <td>1</td>\n",
       "      <td>2679477.0</td>\n",
       "      <td>110001</td>\n",
       "      <td>1</td>\n",
       "      <td>29</td>\n",
       "      <td>2.0</td>\n",
       "      <td>8 a 11 anos</td>\n",
       "      <td>999992.0</td>\n",
       "      <td>1.0</td>\n",
       "      <td>0.0</td>\n",
       "      <td>...</td>\n",
       "      <td>5</td>\n",
       "      <td>2</td>\n",
       "      <td>ATIVO</td>\n",
       "      <td>MUNIC</td>\n",
       "      <td>Alta Floresta D'Oeste</td>\n",
       "      <td>Rondônia</td>\n",
       "      <td>-11.93554</td>\n",
       "      <td>-61.99982</td>\n",
       "      <td>338.0</td>\n",
       "      <td>7067.025</td>\n",
       "    </tr>\n",
       "    <tr>\n",
       "      <th>2</th>\n",
       "      <td>1</td>\n",
       "      <td>2679477.0</td>\n",
       "      <td>110001</td>\n",
       "      <td>1</td>\n",
       "      <td>37</td>\n",
       "      <td>9.0</td>\n",
       "      <td>8 a 11 anos</td>\n",
       "      <td>513205.0</td>\n",
       "      <td>2.0</td>\n",
       "      <td>0.0</td>\n",
       "      <td>...</td>\n",
       "      <td>5</td>\n",
       "      <td>3</td>\n",
       "      <td>ATIVO</td>\n",
       "      <td>MUNIC</td>\n",
       "      <td>Alta Floresta D'Oeste</td>\n",
       "      <td>Rondônia</td>\n",
       "      <td>-11.93554</td>\n",
       "      <td>-61.99982</td>\n",
       "      <td>338.0</td>\n",
       "      <td>7067.025</td>\n",
       "    </tr>\n",
       "    <tr>\n",
       "      <th>3</th>\n",
       "      <td>1</td>\n",
       "      <td>2516500.0</td>\n",
       "      <td>110001</td>\n",
       "      <td>1</td>\n",
       "      <td>30</td>\n",
       "      <td>5.0</td>\n",
       "      <td>12 anos ou mais</td>\n",
       "      <td>231205.0</td>\n",
       "      <td>0.0</td>\n",
       "      <td>0.0</td>\n",
       "      <td>...</td>\n",
       "      <td>4</td>\n",
       "      <td>4</td>\n",
       "      <td>ATIVO</td>\n",
       "      <td>MUNIC</td>\n",
       "      <td>Alto Alegre dos Parecis</td>\n",
       "      <td>Rondônia</td>\n",
       "      <td>-12.13178</td>\n",
       "      <td>-61.85308</td>\n",
       "      <td>397.0</td>\n",
       "      <td>3958.273</td>\n",
       "    </tr>\n",
       "    <tr>\n",
       "      <th>4</th>\n",
       "      <td>1</td>\n",
       "      <td>2516500.0</td>\n",
       "      <td>110001</td>\n",
       "      <td>1</td>\n",
       "      <td>30</td>\n",
       "      <td>2.0</td>\n",
       "      <td>8 a 11 anos</td>\n",
       "      <td>999992.0</td>\n",
       "      <td>1.0</td>\n",
       "      <td>0.0</td>\n",
       "      <td>...</td>\n",
       "      <td>5</td>\n",
       "      <td>5</td>\n",
       "      <td>ATIVO</td>\n",
       "      <td>MUNIC</td>\n",
       "      <td>Alta Floresta D'Oeste</td>\n",
       "      <td>Rondônia</td>\n",
       "      <td>-11.93554</td>\n",
       "      <td>-61.99982</td>\n",
       "      <td>338.0</td>\n",
       "      <td>7067.025</td>\n",
       "    </tr>\n",
       "  </tbody>\n",
       "</table>\n",
       "<p>5 rows × 69 columns</p>\n",
       "</div>"
      ],
      "text/plain": [
       "   ORIGEM   CODESTAB  CODMUNNASC  LOCNASC  IDADEMAE  ESTCIVMAE  \\\n",
       "0       1  2679477.0      110001        1        19        5.0   \n",
       "1       1  2679477.0      110001        1        29        2.0   \n",
       "2       1  2679477.0      110001        1        37        9.0   \n",
       "3       1  2516500.0      110001        1        30        5.0   \n",
       "4       1  2516500.0      110001        1        30        2.0   \n",
       "\n",
       "            ESCMAE  CODOCUPMAE  QTDFILVIVO  QTDFILMORT  ...  KOTELCHUCK  \\\n",
       "0      8 a 11 anos         NaN         0.0         0.0  ...           5   \n",
       "1      8 a 11 anos    999992.0         1.0         0.0  ...           5   \n",
       "2      8 a 11 anos    513205.0         2.0         0.0  ...           5   \n",
       "3  12 anos ou mais    231205.0         0.0         0.0  ...           4   \n",
       "4      8 a 11 anos    999992.0         1.0         0.0  ...           5   \n",
       "\n",
       "  CONTADOR munResStatus munResTipo               munResNome  munResUf  \\\n",
       "0        1        ATIVO      MUNIC    Alta Floresta D'Oeste  Rondônia   \n",
       "1        2        ATIVO      MUNIC    Alta Floresta D'Oeste  Rondônia   \n",
       "2        3        ATIVO      MUNIC    Alta Floresta D'Oeste  Rondônia   \n",
       "3        4        ATIVO      MUNIC  Alto Alegre dos Parecis  Rondônia   \n",
       "4        5        ATIVO      MUNIC    Alta Floresta D'Oeste  Rondônia   \n",
       "\n",
       "   munResLat munResLon  munResAlt  munResArea  \n",
       "0  -11.93554 -61.99982      338.0    7067.025  \n",
       "1  -11.93554 -61.99982      338.0    7067.025  \n",
       "2  -11.93554 -61.99982      338.0    7067.025  \n",
       "3  -12.13178 -61.85308      397.0    3958.273  \n",
       "4  -11.93554 -61.99982      338.0    7067.025  \n",
       "\n",
       "[5 rows x 69 columns]"
      ]
     },
     "execution_count": 72,
     "metadata": {},
     "output_type": "execute_result"
    }
   ],
   "source": [
    "sinasc_raw = pd.read_csv('SINASC_RO_2019.csv')\n",
    "sinasc_raw.head()"
   ]
  },
  {
   "cell_type": "code",
   "execution_count": 73,
   "metadata": {
    "id": "Pz_6GorclTuC"
   },
   "outputs": [
    {
     "data": {
      "text/plain": [
       "Index(['ORIGEM', 'CODESTAB', 'CODMUNNASC', 'LOCNASC', 'IDADEMAE', 'ESTCIVMAE',\n",
       "       'ESCMAE', 'CODOCUPMAE', 'QTDFILVIVO', 'QTDFILMORT', 'CODMUNRES',\n",
       "       'GESTACAO', 'GRAVIDEZ', 'PARTO', 'CONSULTAS', 'DTNASC', 'HORANASC',\n",
       "       'SEXO', 'APGAR1', 'APGAR5', 'RACACOR', 'PESO', 'IDANOMAL', 'DTCADASTRO',\n",
       "       'CODANOMAL', 'NUMEROLOTE', 'VERSAOSIST', 'DTRECEBIM', 'DIFDATA',\n",
       "       'DTRECORIGA', 'NATURALMAE', 'CODMUNNATU', 'CODUFNATU', 'ESCMAE2010',\n",
       "       'SERIESCMAE', 'DTNASCMAE', 'RACACORMAE', 'QTDGESTANT', 'QTDPARTNOR',\n",
       "       'QTDPARTCES', 'IDADEPAI', 'DTULTMENST', 'SEMAGESTAC', 'TPMETESTIM',\n",
       "       'CONSPRENAT', 'MESPRENAT', 'TPAPRESENT', 'STTRABPART', 'STCESPARTO',\n",
       "       'TPNASCASSI', 'TPFUNCRESP', 'TPDOCRESP', 'DTDECLARAC', 'ESCMAEAGR1',\n",
       "       'STDNEPIDEM', 'STDNNOVA', 'CODPAISRES', 'TPROBSON', 'PARIDADE',\n",
       "       'KOTELCHUCK', 'CONTADOR', 'munResStatus', 'munResTipo', 'munResNome',\n",
       "       'munResUf', 'munResLat', 'munResLon', 'munResAlt', 'munResArea'],\n",
       "      dtype='object')"
      ]
     },
     "execution_count": 73,
     "metadata": {},
     "output_type": "execute_result"
    }
   ],
   "source": [
    "sinasc_raw.columns"
   ]
  },
  {
   "cell_type": "code",
   "execution_count": 74,
   "metadata": {
    "id": "C7UKJm4slTuD"
   },
   "outputs": [
    {
     "data": {
      "text/plain": [
       "0        12.0\n",
       "1        12.0\n",
       "2        12.0\n",
       "3         8.0\n",
       "4        12.0\n",
       "         ... \n",
       "27023     8.0\n",
       "27024     5.0\n",
       "27025     6.0\n",
       "27026     6.0\n",
       "27027     5.0\n",
       "Name: ESCMAEAGR1, Length: 27028, dtype: float64"
      ]
     },
     "execution_count": 74,
     "metadata": {},
     "output_type": "execute_result"
    }
   ],
   "source": [
    "sinasc_raw['ESCMAEAGR1']"
   ]
  },
  {
   "cell_type": "code",
   "execution_count": null,
   "metadata": {
    "id": "X6JmtT08lTuD"
   },
   "outputs": [],
   "source": []
  },
  {
   "cell_type": "markdown",
   "metadata": {
    "id": "9GOoel3-lTuD"
   },
   "source": [
    "# Tarefa 2"
   ]
  },
  {
   "cell_type": "markdown",
   "metadata": {
    "id": "iNNeWswTlTuD"
   },
   "source": [
    "### 1. Crie 2 faixas de Latitude do município (munResLat) sendo uma acima e outra abaixo de -10.5 e aplique o groupby usando essas faixas como chave e realize operações de soma, media, minimo, maximo, mediana, desvio padrao, variancia pra pelo menos 2 variáveis numéricas ainda não utilizadas"
   ]
  },
  {
   "cell_type": "code",
   "execution_count": 75,
   "metadata": {
    "id": "HXtelNbnlTuE"
   },
   "outputs": [
    {
     "data": {
      "text/html": [
       "<div>\n",
       "<style scoped>\n",
       "    .dataframe tbody tr th:only-of-type {\n",
       "        vertical-align: middle;\n",
       "    }\n",
       "\n",
       "    .dataframe tbody tr th {\n",
       "        vertical-align: top;\n",
       "    }\n",
       "\n",
       "    .dataframe thead tr th {\n",
       "        text-align: left;\n",
       "    }\n",
       "\n",
       "    .dataframe thead tr:last-of-type th {\n",
       "        text-align: right;\n",
       "    }\n",
       "</style>\n",
       "<table border=\"1\" class=\"dataframe\">\n",
       "  <thead>\n",
       "    <tr>\n",
       "      <th></th>\n",
       "      <th colspan=\"6\" halign=\"left\">QTDGESTANT</th>\n",
       "      <th colspan=\"6\" halign=\"left\">SEMAGESTAC</th>\n",
       "    </tr>\n",
       "    <tr>\n",
       "      <th></th>\n",
       "      <th>sum</th>\n",
       "      <th>mean</th>\n",
       "      <th>min</th>\n",
       "      <th>median</th>\n",
       "      <th>max</th>\n",
       "      <th>std</th>\n",
       "      <th>sum</th>\n",
       "      <th>mean</th>\n",
       "      <th>min</th>\n",
       "      <th>median</th>\n",
       "      <th>max</th>\n",
       "      <th>std</th>\n",
       "    </tr>\n",
       "    <tr>\n",
       "      <th>munResLat</th>\n",
       "      <th></th>\n",
       "      <th></th>\n",
       "      <th></th>\n",
       "      <th></th>\n",
       "      <th></th>\n",
       "      <th></th>\n",
       "      <th></th>\n",
       "      <th></th>\n",
       "      <th></th>\n",
       "      <th></th>\n",
       "      <th></th>\n",
       "      <th></th>\n",
       "    </tr>\n",
       "  </thead>\n",
       "  <tbody>\n",
       "    <tr>\n",
       "      <th>(-90.0, -10.5]</th>\n",
       "      <td>15301.0</td>\n",
       "      <td>1.186032</td>\n",
       "      <td>0.0</td>\n",
       "      <td>1.0</td>\n",
       "      <td>15.0</td>\n",
       "      <td>1.304777</td>\n",
       "      <td>482665.0</td>\n",
       "      <td>38.545360</td>\n",
       "      <td>19.0</td>\n",
       "      <td>39.0</td>\n",
       "      <td>45.0</td>\n",
       "      <td>2.012435</td>\n",
       "    </tr>\n",
       "    <tr>\n",
       "      <th>(-10.5, 90.0]</th>\n",
       "      <td>17615.0</td>\n",
       "      <td>1.364024</td>\n",
       "      <td>0.0</td>\n",
       "      <td>1.0</td>\n",
       "      <td>52.0</td>\n",
       "      <td>1.492482</td>\n",
       "      <td>511951.0</td>\n",
       "      <td>38.588302</td>\n",
       "      <td>21.0</td>\n",
       "      <td>39.0</td>\n",
       "      <td>45.0</td>\n",
       "      <td>2.020722</td>\n",
       "    </tr>\n",
       "  </tbody>\n",
       "</table>\n",
       "</div>"
      ],
      "text/plain": [
       "               QTDGESTANT                                       SEMAGESTAC  \\\n",
       "                      sum      mean  min median   max       std        sum   \n",
       "munResLat                                                                    \n",
       "(-90.0, -10.5]    15301.0  1.186032  0.0    1.0  15.0  1.304777   482665.0   \n",
       "(-10.5, 90.0]     17615.0  1.364024  0.0    1.0  52.0  1.492482   511951.0   \n",
       "\n",
       "                                                        \n",
       "                     mean   min median   max       std  \n",
       "munResLat                                               \n",
       "(-90.0, -10.5]  38.545360  19.0   39.0  45.0  2.012435  \n",
       "(-10.5, 90.0]   38.588302  21.0   39.0  45.0  2.020722  "
      ]
     },
     "execution_count": 75,
     "metadata": {},
     "output_type": "execute_result"
    }
   ],
   "source": [
    "sinasc_lat = pd.cut(sinasc_raw['munResLat'], [-90, -10.5, 90])\n",
    "sinasc_raw.groupby(sinasc_lat)[['QTDGESTANT','SEMAGESTAC']].agg(['sum','mean', 'min', 'median','max','std'])"
   ]
  },
  {
   "cell_type": "markdown",
   "metadata": {
    "id": "AK33D0mdlTuE"
   },
   "source": [
    "### 2. Crie 2 faixas da área dos municípios (munResArea) sendo uma acima e outra abaixo de 3000 e aplique o groupby usando essas faixas como chave e realize operações de soma, media, minimo, maximo, mediana, desvio padrao, variancia pra pelo menos 2 variáveis numéricas ainda não utilizadas\n"
   ]
  },
  {
   "cell_type": "code",
   "execution_count": 76,
   "metadata": {
    "id": "qqCXJtYIlTuE"
   },
   "outputs": [],
   "source": [
    "sinasc_area = pd.cut(sinasc_raw['munResArea'], [0, 3000, 3500])"
   ]
  },
  {
   "cell_type": "code",
   "execution_count": 77,
   "metadata": {},
   "outputs": [
    {
     "data": {
      "text/html": [
       "<div>\n",
       "<style scoped>\n",
       "    .dataframe tbody tr th:only-of-type {\n",
       "        vertical-align: middle;\n",
       "    }\n",
       "\n",
       "    .dataframe tbody tr th {\n",
       "        vertical-align: top;\n",
       "    }\n",
       "\n",
       "    .dataframe thead tr th {\n",
       "        text-align: left;\n",
       "    }\n",
       "\n",
       "    .dataframe thead tr:last-of-type th {\n",
       "        text-align: right;\n",
       "    }\n",
       "</style>\n",
       "<table border=\"1\" class=\"dataframe\">\n",
       "  <thead>\n",
       "    <tr>\n",
       "      <th></th>\n",
       "      <th colspan=\"6\" halign=\"left\">CONSPRENAT</th>\n",
       "      <th colspan=\"6\" halign=\"left\">QTDPARTNOR</th>\n",
       "    </tr>\n",
       "    <tr>\n",
       "      <th></th>\n",
       "      <th>sum</th>\n",
       "      <th>mean</th>\n",
       "      <th>min</th>\n",
       "      <th>median</th>\n",
       "      <th>max</th>\n",
       "      <th>std</th>\n",
       "      <th>sum</th>\n",
       "      <th>mean</th>\n",
       "      <th>min</th>\n",
       "      <th>median</th>\n",
       "      <th>max</th>\n",
       "      <th>std</th>\n",
       "    </tr>\n",
       "    <tr>\n",
       "      <th>munResArea</th>\n",
       "      <th></th>\n",
       "      <th></th>\n",
       "      <th></th>\n",
       "      <th></th>\n",
       "      <th></th>\n",
       "      <th></th>\n",
       "      <th></th>\n",
       "      <th></th>\n",
       "      <th></th>\n",
       "      <th></th>\n",
       "      <th></th>\n",
       "      <th></th>\n",
       "    </tr>\n",
       "  </thead>\n",
       "  <tbody>\n",
       "    <tr>\n",
       "      <th>(0, 3000]</th>\n",
       "      <td>44775.0</td>\n",
       "      <td>8.709395</td>\n",
       "      <td>0.0</td>\n",
       "      <td>8.0</td>\n",
       "      <td>99.0</td>\n",
       "      <td>4.290017</td>\n",
       "      <td>1912.0</td>\n",
       "      <td>0.371334</td>\n",
       "      <td>0.0</td>\n",
       "      <td>0.0</td>\n",
       "      <td>10.0</td>\n",
       "      <td>0.856441</td>\n",
       "    </tr>\n",
       "    <tr>\n",
       "      <th>(3000, 3500]</th>\n",
       "      <td>9677.0</td>\n",
       "      <td>8.356649</td>\n",
       "      <td>0.0</td>\n",
       "      <td>8.0</td>\n",
       "      <td>15.0</td>\n",
       "      <td>2.363235</td>\n",
       "      <td>541.0</td>\n",
       "      <td>0.703511</td>\n",
       "      <td>0.0</td>\n",
       "      <td>0.0</td>\n",
       "      <td>41.0</td>\n",
       "      <td>1.843627</td>\n",
       "    </tr>\n",
       "  </tbody>\n",
       "</table>\n",
       "</div>"
      ],
      "text/plain": [
       "             CONSPRENAT                                       QTDPARTNOR  \\\n",
       "                    sum      mean  min median   max       std        sum   \n",
       "munResArea                                                                 \n",
       "(0, 3000]       44775.0  8.709395  0.0    8.0  99.0  4.290017     1912.0   \n",
       "(3000, 3500]     9677.0  8.356649  0.0    8.0  15.0  2.363235      541.0   \n",
       "\n",
       "                                                    \n",
       "                  mean  min median   max       std  \n",
       "munResArea                                          \n",
       "(0, 3000]     0.371334  0.0    0.0  10.0  0.856441  \n",
       "(3000, 3500]  0.703511  0.0    0.0  41.0  1.843627  "
      ]
     },
     "execution_count": 77,
     "metadata": {},
     "output_type": "execute_result"
    }
   ],
   "source": [
    "sinasc_raw.groupby(sinasc_area)[['CONSPRENAT','QTDPARTNOR']].agg(['sum','mean', 'min', 'median','max','std'])"
   ]
  },
  {
   "cell_type": "markdown",
   "metadata": {
    "id": "aWaljnnxlTuE"
   },
   "source": [
    "### 3. Determine faixas na variável munResAlt e aplique o groupby usando essas faixas como chave e realize operações de soma, media, minimo, maximo, mediana, desvio padrao, variancia pra pelo menos 2 variáveis numéricas ainda não utilizadas"
   ]
  },
  {
   "cell_type": "code",
   "execution_count": 78,
   "metadata": {},
   "outputs": [],
   "source": [
    "senasc_alt = pd.qcut(sinasc_raw['munResAlt'], 2)"
   ]
  },
  {
   "cell_type": "code",
   "execution_count": 79,
   "metadata": {},
   "outputs": [
    {
     "data": {
      "text/html": [
       "<div>\n",
       "<style scoped>\n",
       "    .dataframe tbody tr th:only-of-type {\n",
       "        vertical-align: middle;\n",
       "    }\n",
       "\n",
       "    .dataframe tbody tr th {\n",
       "        vertical-align: top;\n",
       "    }\n",
       "\n",
       "    .dataframe thead tr th {\n",
       "        text-align: left;\n",
       "    }\n",
       "\n",
       "    .dataframe thead tr:last-of-type th {\n",
       "        text-align: right;\n",
       "    }\n",
       "</style>\n",
       "<table border=\"1\" class=\"dataframe\">\n",
       "  <thead>\n",
       "    <tr>\n",
       "      <th></th>\n",
       "      <th colspan=\"6\" halign=\"left\">TPFUNCRESP</th>\n",
       "      <th colspan=\"6\" halign=\"left\">ESCMAEAGR1</th>\n",
       "    </tr>\n",
       "    <tr>\n",
       "      <th></th>\n",
       "      <th>sum</th>\n",
       "      <th>mean</th>\n",
       "      <th>min</th>\n",
       "      <th>median</th>\n",
       "      <th>max</th>\n",
       "      <th>std</th>\n",
       "      <th>sum</th>\n",
       "      <th>mean</th>\n",
       "      <th>min</th>\n",
       "      <th>median</th>\n",
       "      <th>max</th>\n",
       "      <th>std</th>\n",
       "    </tr>\n",
       "    <tr>\n",
       "      <th>munResAlt</th>\n",
       "      <th></th>\n",
       "      <th></th>\n",
       "      <th></th>\n",
       "      <th></th>\n",
       "      <th></th>\n",
       "      <th></th>\n",
       "      <th></th>\n",
       "      <th></th>\n",
       "      <th></th>\n",
       "      <th></th>\n",
       "      <th></th>\n",
       "      <th></th>\n",
       "    </tr>\n",
       "  </thead>\n",
       "  <tbody>\n",
       "    <tr>\n",
       "      <th>(84.999, 153.0]</th>\n",
       "      <td>29574.0</td>\n",
       "      <td>2.174719</td>\n",
       "      <td>1.0</td>\n",
       "      <td>2.0</td>\n",
       "      <td>5.0</td>\n",
       "      <td>0.882944</td>\n",
       "      <td>105993.0</td>\n",
       "      <td>7.877592</td>\n",
       "      <td>0.0</td>\n",
       "      <td>8.0</td>\n",
       "      <td>12.0</td>\n",
       "      <td>3.419479</td>\n",
       "    </tr>\n",
       "    <tr>\n",
       "      <th>(153.0, 595.0]</th>\n",
       "      <td>38966.0</td>\n",
       "      <td>2.916398</td>\n",
       "      <td>1.0</td>\n",
       "      <td>2.0</td>\n",
       "      <td>5.0</td>\n",
       "      <td>1.386300</td>\n",
       "      <td>82384.0</td>\n",
       "      <td>6.183592</td>\n",
       "      <td>0.0</td>\n",
       "      <td>6.0</td>\n",
       "      <td>12.0</td>\n",
       "      <td>2.421674</td>\n",
       "    </tr>\n",
       "  </tbody>\n",
       "</table>\n",
       "</div>"
      ],
      "text/plain": [
       "                TPFUNCRESP                                      ESCMAEAGR1  \\\n",
       "                       sum      mean  min median  max       std        sum   \n",
       "munResAlt                                                                    \n",
       "(84.999, 153.0]    29574.0  2.174719  1.0    2.0  5.0  0.882944   105993.0   \n",
       "(153.0, 595.0]     38966.0  2.916398  1.0    2.0  5.0  1.386300    82384.0   \n",
       "\n",
       "                                                       \n",
       "                     mean  min median   max       std  \n",
       "munResAlt                                              \n",
       "(84.999, 153.0]  7.877592  0.0    8.0  12.0  3.419479  \n",
       "(153.0, 595.0]   6.183592  0.0    6.0  12.0  2.421674  "
      ]
     },
     "execution_count": 79,
     "metadata": {},
     "output_type": "execute_result"
    }
   ],
   "source": [
    "sinasc_raw.groupby(senasc_alt)[['TPFUNCRESP','ESCMAEAGR1']].agg(['sum','mean', 'min', 'median','max','std'])"
   ]
  },
  {
   "cell_type": "markdown",
   "metadata": {
    "id": "aF1riawJlTuF"
   },
   "source": [
    "### 4. Plote no mesmo grafico ao longo do tempo a idade media das mulheres de cada regiao imediatas de rondonia\n"
   ]
  },
  {
   "cell_type": "code",
   "execution_count": 80,
   "metadata": {
    "id": "6aZM5xKale9c"
   },
   "outputs": [],
   "source": [
    "imediatas = {\n",
    "    \"Candeias do Jamari\": \"Porto Velho\",\n",
    "    \"Guajará-Mirim\": \"Porto Velho\",\n",
    "    \"Itapuã do Oeste\": \"Porto Velho\",\n",
    "    \"Nova Mamoré\": \"Porto Velho\",\n",
    "    \"Porto Velho\": \"Porto Velho\",\n",
    "    \"Ariquemes\": \"Ariquemes\",\n",
    "    \"Alto Paraíso\": \"Ariquemes\",\n",
    "    \"Buritis\": \"Ariquemes\",\n",
    "    \"Cacaulândia\": \"Ariquemes\",\n",
    "    \"Campo Novo de Rondônia\": \"Ariquemes\",\n",
    "    \"Cujubim\": \"Ariquemes\",\n",
    "    \"Monte Negro\": \"Ariquemes\",\n",
    "    \"Rio Crespo\": \"Ariquemes\",\n",
    "    \"Jaru\": \"Jaru\",\n",
    "    \"Governador Jorge Teixeira\": \"Jaru\",\n",
    "    \"Machadinho D'Oeste\": \"Jaru\",\n",
    "    \"Theobroma\": \"Jaru\",\n",
    "    \"Vale do Anari\": \"Jaru\",\n",
    "    \"Alvorada D'Oeste\": \"Ji-Paraná\",\n",
    "    \"Costa Marques\": \"Ji-Paraná\",\n",
    "    \"Ji-Paraná\": \"Ji-Paraná\",\n",
    "    \"Mirante da Serra\": \"Ji-Paraná\",\n",
    "    \"Nova União\": \"Ji-Paraná\",\n",
    "    \"Ouro Preto do Oeste\": \"Ji-Paraná\",\n",
    "    \"Presidente Médici\": \"Ji-Paraná\",\n",
    "    \"São Francisco do Guaporé\": \"Ji-Paraná\",\n",
    "    \"São Miguel do Guaporé\": \"Ji-Paraná\",\n",
    "    \"Seringueiras\": \"Ji-Paraná\",\n",
    "    \"Teixeirópolis\": \"Ji-Paraná\",\n",
    "    \"Urupá\": \"Ji-Paraná\",\n",
    "    \"Vale do Paraíso\": \"Ji-Paraná\",\n",
    "    \"Cacoal\": \"Cacoal\",\n",
    "    \"Alta Floresta D'Oeste\": \"Cacoal\",\n",
    "    \"Alto Alegre dos Parecis\": \"Cacoal\",\n",
    "    \"Castanheiras\": \"Cacoal\",\n",
    "    \"Espigão D'Oeste\": \"Cacoal\",\n",
    "    \"Ministro Andreazza\": \"Cacoal\",\n",
    "    \"Nova Brasilândia D'Oeste\": \"Cacoal\",\n",
    "    \"Novo Horizonte do Oeste\": \"Cacoal\",\n",
    "    \"Parecis\": \"Cacoal\",\n",
    "    \"Pimenta Bueno\": \"Cacoal\",\n",
    "    \"Primavera de Rondônia\": \"Cacoal\",\n",
    "    \"Rolim de Moura\": \"Cacoal\",\n",
    "    \"Santa Luzia D'Oeste\": \"Cacoal\",\n",
    "    \"São Felipe D'Oeste\": \"Cacoal\",\n",
    "    \"Vilhena\": \"Vilhena\",\n",
    "    \"Cabixi\": \"Vilhena\",\n",
    "    \"Cerejeiras\": \"Vilhena\",\n",
    "    \"Chupinguaia\": \"Vilhena\",\n",
    "    \"Colorado do Oeste\": \"Vilhena\",\n",
    "    \"Corumbiara\": \"Vilhena\",\n",
    "    \"Pimenteiras do Oeste\": \"Vilhena\"\n",
    "}"
   ]
  },
  {
   "cell_type": "code",
   "execution_count": 86,
   "metadata": {},
   "outputs": [],
   "source": [
    "sinasc_2 = sinasc_raw.set_index('munResNome')"
   ]
  },
  {
   "cell_type": "code",
   "execution_count": 95,
   "metadata": {},
   "outputs": [],
   "source": []
  },
  {
   "cell_type": "code",
   "execution_count": 100,
   "metadata": {},
   "outputs": [
    {
     "data": {
      "image/png": "[encoded data removed]",
      "text/plain": [
       "<Figure size 1500x500 with 1 Axes>"
      ]
     },
     "metadata": {},
     "output_type": "display_data"
    }
   ],
   "source": [
    "sinasc_2.groupby([imediatas])['IDADEMAE'].mean().plot(figsize=[15,5]);"
   ]
  },
  {
   "cell_type": "markdown",
   "metadata": {
    "id": "yt-LIWxblTuF"
   },
   "source": [
    "### 5. Utilize a tabela do link abaixo e crie faixas utilizando o mapping e gere agrupamentos utilizando essas faixas como chave\n"
   ]
  },
  {
   "cell_type": "markdown",
   "metadata": {
    "id": "moZakjgIlTuF"
   },
   "source": [
    "### 5.1 IDH\n",
    "A - https://pt.wikipedia.org/wiki/Lista_de_munic%C3%ADpios_de_Rond%C3%B4nia_por_IDH-M\n"
   ]
  },
  {
   "cell_type": "code",
   "execution_count": 106,
   "metadata": {},
   "outputs": [
    {
     "data": {
      "text/html": [
       "<div>\n",
       "<style scoped>\n",
       "    .dataframe tbody tr th:only-of-type {\n",
       "        vertical-align: middle;\n",
       "    }\n",
       "\n",
       "    .dataframe tbody tr th {\n",
       "        vertical-align: top;\n",
       "    }\n",
       "\n",
       "    .dataframe thead th {\n",
       "        text-align: right;\n",
       "    }\n",
       "</style>\n",
       "<table border=\"1\" class=\"dataframe\">\n",
       "  <thead>\n",
       "    <tr style=\"text-align: right;\">\n",
       "      <th></th>\n",
       "      <th>QTDFILVIVO</th>\n",
       "      <th>IDADEMAE</th>\n",
       "      <th>PESO</th>\n",
       "    </tr>\n",
       "    <tr>\n",
       "      <th>ClassIDH</th>\n",
       "      <th></th>\n",
       "      <th></th>\n",
       "      <th></th>\n",
       "    </tr>\n",
       "  </thead>\n",
       "  <tbody>\n",
       "    <tr>\n",
       "      <th>IDH alto</th>\n",
       "      <td>1.033960</td>\n",
       "      <td>26.280332</td>\n",
       "      <td>3245.623791</td>\n",
       "    </tr>\n",
       "    <tr>\n",
       "      <th>IDH baixo</th>\n",
       "      <td>1.056270</td>\n",
       "      <td>25.269231</td>\n",
       "      <td>3244.309955</td>\n",
       "    </tr>\n",
       "    <tr>\n",
       "      <th>IDH médio</th>\n",
       "      <td>1.093111</td>\n",
       "      <td>25.848191</td>\n",
       "      <td>3245.670333</td>\n",
       "    </tr>\n",
       "  </tbody>\n",
       "</table>\n",
       "</div>"
      ],
      "text/plain": [
       "           QTDFILVIVO   IDADEMAE         PESO\n",
       "ClassIDH                                     \n",
       "IDH alto     1.033960  26.280332  3245.623791\n",
       "IDH baixo    1.056270  25.269231  3244.309955\n",
       "IDH médio    1.093111  25.848191  3245.670333"
      ]
     },
     "execution_count": 106,
     "metadata": {},
     "output_type": "execute_result"
    }
   ],
   "source": [
    "mapping = {\n",
    "\"Porto Velho\" : \"IDH alto\",\n",
    "\"Vilhena\":\"IDH alto\",\n",
    "\"Cacoal\":\"IDH alto\",\n",
    "\"Ji-Paraná\":\"IDH alto\",\n",
    "\"Pimenta Bueno\":\"IDH alto\",\n",
    "\"Ariquemes\":\"IDH alto\",\n",
    "\"Rolim de Moura\":\"IDH alto\",\n",
    "\"Cerejeiras\":\"IDH médio\",\n",
    "\"Jaru\":\"IDH médio\",\n",
    "\"Colorado do Oeste\":\"IDH médio\",\n",
    "\"Ouro Preto do Oeste\":\"IDH médio\",\n",
    "\"Espigão d'Oeste\":\"IDH médio\",\n",
    "\"Santa Luzia d'Oeste\":\"IDH médio\",\n",
    "\"Pimenteiras do Oeste\":\"IDH médio\",\n",
    "\"Presidente Médici\":\"IDH médio\",\n",
    "\"Castanheiras\":\"IDH médio\",\n",
    "\"Guajará-Mirim\":\"IDH médio\",\n",
    "\"Chupinguaia\":\"IDH médio\",\n",
    "\"Cabixi\":\"IDH médio\",\n",
    "\"Candeias do Jamari\":\"IDH médio\",\n",
    "\"São Felipe d'Oeste\":\"IDH médio\",\n",
    "\"Cacaulândia\":\"IDH médio\",\n",
    "\"São Miguel do Guaporé\":\"IDH médio\",\n",
    "\"Mirante da Serra\":\"IDH médio\",\n",
    "\"Alvorada d'Oeste\":\"IDH médio\",\n",
    "\"Teixeirópolis\"\t:\"IDH médio\",\n",
    "\"Nova Brasilândia d'Oeste\":\"IDH médio\",\n",
    "\"Rio Crespo\":\"IDH médio\",\n",
    "'Primavera de Rondônia':\"IDH médio\",\n",
    "\"Alta Floresta d'Oeste\":\"IDH médio\",\n",
    "\"Ministro Andreazza\":\"IDH médio\",\n",
    "\"Novo Horizonte do Oeste\":\"IDH médio\",\n",
    "\"Vale do Paraíso\":\"IDH médio\",\n",
    "\"Alto Paraíso\":\"IDH médio\",\n",
    "\"Parecis\":\"IDH médio\",\n",
    "\"Buritis\":\"IDH médio\",\n",
    "\"Itapuã do Oeste\":\"IDH médio\",\n",
    "\"Corumbiara\":\"IDH médio\",\n",
    "\"Cujubim\":\"IDH médio\",\n",
    "\"Costa Marques\":\"IDH médio\",\n",
    "\"São Francisco do Guaporé\":\"IDH médio\",\n",
    "\"Urupá\":\"IDH médio\",\n",
    "\"Monte Negro\":\"IDH médio\",\n",
    "\"Seringueiras\":\"IDH baixo\",\n",
    "\"Governador Jorge Teixeira\":\"IDH baixo\",\n",
    "\"Machadinho d'Oeste\":\"IDH baixo\",\n",
    "\"Campo Novo de Rondônia\":\"IDH baixo\",\n",
    "\"Alto Alegre dos Parecis\":\"IDH baixo\",\n",
    "\"Theobroma\":\"IDH baixo\",\n",
    "\"Nova União\":\"IDH baixo\",\n",
    "\"Nova Mamoré\":\"IDH baixo\",\n",
    "\"Vale do Anari\":\"IDH baixo\"\n",
    "}\n",
    "sinasc_2.index.names = ['ClassIDH']\n",
    "sinasc_2.groupby([mapping])[['QTDFILVIVO', 'IDADEMAE', 'PESO']].mean()"
   ]
  },
  {
   "cell_type": "code",
   "execution_count": null,
   "metadata": {},
   "outputs": [],
   "source": []
  },
  {
   "cell_type": "markdown",
   "metadata": {
    "id": "zhtI6CxtlTuH"
   },
   "source": [
    "### 5.2 IFDM\n",
    "B - https://pt.wikipedia.org/wiki/Lista_de_munic%C3%ADpios_de_Rond%C3%B4nia_por_IFDM\n"
   ]
  },
  {
   "cell_type": "code",
   "execution_count": 107,
   "metadata": {
    "id": "1AVkd1M3lTuI"
   },
   "outputs": [
    {
     "data": {
      "text/html": [
       "<div>\n",
       "<style scoped>\n",
       "    .dataframe tbody tr th:only-of-type {\n",
       "        vertical-align: middle;\n",
       "    }\n",
       "\n",
       "    .dataframe tbody tr th {\n",
       "        vertical-align: top;\n",
       "    }\n",
       "\n",
       "    .dataframe thead th {\n",
       "        text-align: right;\n",
       "    }\n",
       "</style>\n",
       "<table border=\"1\" class=\"dataframe\">\n",
       "  <thead>\n",
       "    <tr style=\"text-align: right;\">\n",
       "      <th></th>\n",
       "      <th>QTDGESTANT</th>\n",
       "    </tr>\n",
       "    <tr>\n",
       "      <th>ClassIFDM</th>\n",
       "      <th></th>\n",
       "    </tr>\n",
       "  </thead>\n",
       "  <tbody>\n",
       "    <tr>\n",
       "      <th>Moderado</th>\n",
       "      <td>1.262372</td>\n",
       "    </tr>\n",
       "    <tr>\n",
       "      <th>Regular</th>\n",
       "      <td>1.398780</td>\n",
       "    </tr>\n",
       "  </tbody>\n",
       "</table>\n",
       "</div>"
      ],
      "text/plain": [
       "           QTDGESTANT\n",
       "ClassIFDM            \n",
       "Moderado     1.262372\n",
       "Regular      1.398780"
      ]
     },
     "execution_count": 107,
     "metadata": {},
     "output_type": "execute_result"
    }
   ],
   "source": [
    "mapping = {\n",
    "\"Ariquemes\": \"Moderado\",\n",
    "\"Vilhena\": \"Moderado\",\n",
    "\"Pimenta Bueno\": \"Moderado\",\n",
    "\"Porto Velho\": \"Moderado\",\n",
    "\"Ji-Paraná\": \"Moderado\",\n",
    "\"Cacoal\": \"Moderado\",\n",
    "\"Santa Luzia d'Oeste\": \"Moderado\",\n",
    "\"Rolim de Moura\": \"Moderado\",\n",
    "\"Chupinguaia\": \"Moderado\",\n",
    "\"São Miguel do Guaporé\": \"Moderado\",\n",
    "\"Pimenteiras do Oeste\": \"Moderado\",\n",
    "\"Teixeirópolis\": \"Moderado\",\n",
    "\"Colorado do Oeste\": \"Moderado\",\n",
    "\"Jaru\": \"Moderado\",\n",
    "\"Rio Crespo\": \"Moderado\",\n",
    "\"Primavera de Rondônia\": \"Moderado\",\n",
    "\"Alta Floresta d'Oeste\": \"Moderado\",\n",
    "\"Ouro Preto do Oeste\": \"Moderado\",\n",
    "\"São Francisco do Guaporé\": \"Moderado\",\n",
    "\"Candeias do Jamari\": \"Moderado\",\n",
    "\"Buritis\": \"Moderado\",\n",
    "\"São Felipe d'Oeste\": \"Moderado\",\n",
    "\"Presidente Médici\": \"Moderado\",\n",
    "\"Cerejeiras\": \"Moderado\",\n",
    "\"Monte Negro\": \"Moderado\",\n",
    "\"Urupá\": \"Moderado\",\n",
    "\"Espigão d'Oeste\": \"Regular\",\n",
    "\"Seringueiras\": \"Regular\",\n",
    "\"Alvorada d'Oeste\": \"Regular\",\n",
    "\"Itapuã do Oeste\": \"Regular\",\n",
    "\"Cabixi\": \"Regular\",\n",
    "\"Novo Horizonte do Oeste\": \"Regular\",\n",
    "\"Nova Brasilândia d'Oeste\": \"Regular\",\n",
    "\"Vale do Paraíso\": \"Regular\",\n",
    "\"Corumbiara\": \"Regular\",\n",
    "\"Alto Paraíso\": \"Regular\",\n",
    "\"Cacaulândia\": \"Regular\",\n",
    "\"Vale do Anari\": \"Regular\",\n",
    "\"Ministro Andreazza\": \"Regular\",\n",
    "\"Costa Marques\": \"Regular\",\n",
    "\"Nova União\": \"Regular\",\n",
    "\"Guajará-Mirim\": \"Regular\",\n",
    "\"Mirante da Serra\": \"Regular\",\n",
    "\"Parecis\": \"Regular\",\n",
    "\"Castanheiras\": \"Regular\",\n",
    "\"Theobroma\": \"Regular\",\n",
    "\"Machadinho d'Oeste\": \"Regular\",\n",
    "\"Campo Novo de Rondônia\": \"Regular\",\n",
    "\"Nova Mamoré\": \"Regular\",\n",
    "\"Cujubim\": \"Regular\",\n",
    "\"Alto Alegre dos Parecis\": \"Regular\",\n",
    "\"Governador Jorge Teixeira\": \"Regular\"\n",
    "}\n",
    "sinasc_2.index.names = ['ClassIFDM']\n",
    "sinasc_2.groupby([mapping])[['QTDGESTANT']].mean()"
   ]
  },
  {
   "cell_type": "markdown",
   "metadata": {
    "id": "BwdS46EWlTuI"
   },
   "source": [
    "### 5.3 PIB\n",
    "C - https://pt.wikipedia.org/wiki/Lista_de_munic%C3%ADpios_de_Rond%C3%B4nia_por_PIB\n"
   ]
  },
  {
   "cell_type": "code",
   "execution_count": 113,
   "metadata": {},
   "outputs": [
    {
     "data": {
      "text/html": [
       "<div>\n",
       "<style scoped>\n",
       "    .dataframe tbody tr th:only-of-type {\n",
       "        vertical-align: middle;\n",
       "    }\n",
       "\n",
       "    .dataframe tbody tr th {\n",
       "        vertical-align: top;\n",
       "    }\n",
       "\n",
       "    .dataframe thead th {\n",
       "        text-align: right;\n",
       "    }\n",
       "</style>\n",
       "<table border=\"1\" class=\"dataframe\">\n",
       "  <thead>\n",
       "    <tr style=\"text-align: right;\">\n",
       "      <th></th>\n",
       "      <th>QTDFILVIVO</th>\n",
       "    </tr>\n",
       "    <tr>\n",
       "      <th>ClassPIB</th>\n",
       "      <th></th>\n",
       "    </tr>\n",
       "  </thead>\n",
       "  <tbody>\n",
       "    <tr>\n",
       "      <th>Acima de 1 Bilhão</th>\n",
       "      <td>1.026435</td>\n",
       "    </tr>\n",
       "    <tr>\n",
       "      <th>Acima de 100 Milhões</th>\n",
       "      <td>0.992320</td>\n",
       "    </tr>\n",
       "    <tr>\n",
       "      <th>Acima de 200 Milhões</th>\n",
       "      <td>1.010526</td>\n",
       "    </tr>\n",
       "    <tr>\n",
       "      <th>Acima de 300 Milhões</th>\n",
       "      <td>1.062097</td>\n",
       "    </tr>\n",
       "    <tr>\n",
       "      <th>Acima de 500 milhões</th>\n",
       "      <td>1.228385</td>\n",
       "    </tr>\n",
       "    <tr>\n",
       "      <th>Até 100 Milhões</th>\n",
       "      <td>1.032258</td>\n",
       "    </tr>\n",
       "  </tbody>\n",
       "</table>\n",
       "</div>"
      ],
      "text/plain": [
       "                      QTDFILVIVO\n",
       "ClassPIB                        \n",
       "Acima de 1 Bilhão       1.026435\n",
       "Acima de 100 Milhões    0.992320\n",
       "Acima de 200 Milhões    1.010526\n",
       "Acima de 300 Milhões    1.062097\n",
       "Acima de 500 milhões    1.228385\n",
       "Até 100 Milhões         1.032258"
      ]
     },
     "execution_count": 113,
     "metadata": {},
     "output_type": "execute_result"
    }
   ],
   "source": [
    "mapping = {\n",
    "\"Porto Velho\": \"Acima de 1 Bilhão\",\n",
    "\"Ji-Paraná\": \"Acima de 1 Bilhão\",\n",
    "\"Vilhena\": \"Acima de 1 Bilhão\",\n",
    "\"Ariquemes\": \"Acima de 1 Bilhão\",\n",
    "\"Cacoal\": \"Acima de 1 Bilhão\",\n",
    "\"Jaru\": \"Acima de 1 Bilhão\",\n",
    "\"Rolim de Moura\": \"Acima de 1 Bilhão\",\n",
    "\"Pimenta Bueno\": \"Acima de 1 Bilhão\",\n",
    "\"Guajará-Mirim\": \"Acima de 500 milhões\",\n",
    "\"Ouro Preto do Oeste\": \"Acima de 500 milhões\",\n",
    "\"Buritis\": \"Acima de 500 milhões\",\n",
    "\"Machadinho do Oeste\": \"Acima de 500 milhões\",\n",
    "\"Espigão d'Oeste\": \"Acima de 500 milhões\",\n",
    "\"São Miguel do Guaporé\": \"Acima de 500 milhões\",\n",
    "\"Candeias do Jamari\": \"Acima de 500 milhões\",\n",
    "\"Nova Mamoré\": \"Acima de 500 milhões\",\n",
    "\"Cerejeiras\": \"Acima de 500 milhões\",\n",
    "\"Alta Floresta do Oeste\": \"Acima de 300 Milhões\",\n",
    "\"Presidente Médici\": \"Acima de 300 Milhões\",\n",
    "\"Cujubim\": \"Acima de 300 Milhões\",\n",
    "\"Nova Brasilândia do Oeste\": \"Acima de 300 Milhões\",\n",
    "\"Alto Paraíso\": \"Acima de 300 Milhões\",\n",
    "\"São Francisco do Guaporé\": \"Acima de 300 Milhões\",\n",
    "\"Colorado do Oeste\": \"Acima de 300 Milhões\",\n",
    "\"Monte Negro\": \"Acima de 200 Milhões\",\n",
    "\"Alto Alegre dos Parecis\": \"Acima de 200 Milhões\",\n",
    "\"Campo Novo de Rondônia\": \"Acima de 200 Milhões\",\n",
    "\"Alvorada do Oeste\": \"Acima de 200 Milhões\",\n",
    "\"Chupinguaia\": \"Acima de 100 Milhões\",\n",
    "\"Corumbiara\": \"Acima de 100 Milhões\",\n",
    "\"Ministro Andreazza\": \"Acima de 100 Milhões\",\n",
    "\"Urupá\": \"Acima de 100 Milhões\",\n",
    "\"Costa Marques\": \"Acima de 100 Milhões\",\n",
    "\"Seringueiras\": \"Acima de 100 Milhões\",\n",
    "\"Mirante da Serra\": \"Acima de 100 Milhões\",\n",
    "\"Governador Jorge Teixeira\": \"Acima de 100 Milhões\",\n",
    "\"Theobroma\": \"Acima de 100 Milhões\",\n",
    "\"Santa Luzia do Oeste\": \"Acima de 100 Milhões\",\n",
    "\"Novo Horizonte do Oeste\": \"Acima de 100 Milhões\",\n",
    "\"Itapuã do Oeste\": \"Acima de 100 Milhões\",\n",
    "\"Vale do Paraíso\": \"Acima de 100 Milhões\",\n",
    "\"Cacaulândia\": \"Acima de 100 Milhões\",\n",
    "\"Cabixi\": \"Acima de 100 Milhões\",\n",
    "\"Vale do Anari\": \"Acima de 100 Milhões\",\n",
    "\"Nova União\": \"Até 100 Milhões\",\n",
    "\"Parecis\": \"Até 100 Milhões\",\n",
    "\"Rio Crespo\": \"Até 100 Milhões\",\n",
    "\"Pimenteiras do Oeste\": \"Até 100 Milhões\",\n",
    "\"Teixeirópolis\": \"Até 100 Milhões\",\n",
    "\"São Felipe do Oeste\": \"Até 100 Milhões\",\n",
    "\"Castanheiras\": \"Até 100 Milhões\",\n",
    "\"Primavera de Rondônia\": \"Até 100 Milhões\"\n",
    "}\n",
    "sinasc_2.index.names = ['ClassPIB']\n",
    "sinasc_2.groupby([mapping])[['QTDFILVIVO']].mean()"
   ]
  },
  {
   "cell_type": "markdown",
   "metadata": {
    "id": "bdWGW_xtlTuI"
   },
   "source": [
    "### Analise as respostas encontradas, tire algum insight delas, conte pra gente algo encontrado nos dados."
   ]
  },
  {
   "cell_type": "markdown",
   "metadata": {
    "id": "shZvokfBlTuI"
   },
   "source": [
    "Exemplo:\n",
    "- Ah, descobri que a idade mediana das mulheres que deram a luz no ano de 2019 dos municipios com o PIB mais alto é a maior dentre todas."
   ]
  },
  {
   "cell_type": "markdown",
   "metadata": {
    "id": "f8P7BYYglTuJ"
   },
   "source": [
    "Pode-se inferir que a média da idade da mãe tende a ser maior quando o IDH do município é maior"
   ]
  },
  {
   "cell_type": "code",
   "execution_count": null,
   "metadata": {},
   "outputs": [],
   "source": []
  }
 ],
 "metadata": {
  "colab": {
   "provenance": []
  },
  "kernelspec": {
   "display_name": "Python 3 (ipykernel)",
   "language": "python",
   "name": "python3"
  },
  "language_info": {
   "codemirror_mode": {
    "name": "ipython",
    "version": 3
   },
   "file_extension": ".py",
   "mimetype": "text/x-python",
   "name": "python",
   "nbconvert_exporter": "python",
   "pygments_lexer": "ipython3",
   "version": "3.11.5"
  },
  "varInspector": {
   "cols": {
    "lenName": 16,
    "lenType": 16,
    "lenVar": 40
   },
   "kernels_config": {
    "python": {
     "delete_cmd_postfix": "",
     "delete_cmd_prefix": "del ",
     "library": "var_list.py",
     "varRefreshCmd": "print(var_dic_list())"
    },
    "r": {
     "delete_cmd_postfix": ") ",
     "delete_cmd_prefix": "rm(",
     "library": "var_list.r",
     "varRefreshCmd": "cat(var_dic_list()) "
    }
   },
   "types_to_exclude": [
    "module",
    "function",
    "builtin_function_or_method",
    "instance",
    "_Feature"
   ],
   "window_display": false
  }
 },
 "nbformat": 4,
 "nbformat_minor": 1
}
